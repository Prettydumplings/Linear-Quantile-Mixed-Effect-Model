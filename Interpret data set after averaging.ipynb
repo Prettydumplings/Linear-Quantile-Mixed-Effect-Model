{
 "cells": [
  {
   "cell_type": "code",
   "execution_count": 6,
   "metadata": {},
   "outputs": [],
   "source": [
    "\n",
    "########## Include Packge ##########\n",
    "library(plyr)\n",
    "library(ggplot2)\n"
   ]
  },
  {
   "cell_type": "code",
   "execution_count": 7,
   "metadata": {},
   "outputs": [
    {
     "data": {
      "text/html": [
       "<table>\n",
       "<thead><tr><th scope=col>Subject</th><th scope=col>interval</th><th scope=col>mean_ee</th><th scope=col>mean_mets</th><th scope=col>mean_steps</th><th scope=col>School</th><th scope=col>Grade</th><th scope=col>Teacher</th><th scope=col>Trt_is_1</th><th scope=col>Gender</th><th scope=col>Ethnicity</th><th scope=col>BMI_perc_fall</th><th scope=col>BMI_perc_spring</th><th scope=col>raw_bmi_fallyr1</th><th scope=col>raw_bmi_springyr1</th><th scope=col>age</th><th scope=col>bmi_springyr2</th><th scope=col>raw_bmi_springyr2</th><th scope=col>delta_yr2</th><th scope=col>delta_yr1</th></tr></thead>\n",
       "<tbody>\n",
       "\t<tr><td>1        </td><td>1        </td><td>0.9842590</td><td>2.770173 </td><td> 1.900000</td><td>3        </td><td>2        </td><td>1        </td><td>1        </td><td>2        </td><td>2        </td><td>11.7     </td><td>20.7     </td><td>14.15346 </td><td>14.9     </td><td>8        </td><td>22.4     </td><td>14.90412 </td><td>0.7506648</td><td>0.7465406</td></tr>\n",
       "\t<tr><td>1        </td><td>2        </td><td>0.8332303</td><td>2.345106 </td><td> 4.033333</td><td>3        </td><td>2        </td><td>1        </td><td>1        </td><td>2        </td><td>2        </td><td>11.7     </td><td>20.7     </td><td>14.15346 </td><td>14.9     </td><td>8        </td><td>22.4     </td><td>14.90412 </td><td>0.7506648</td><td>0.7465406</td></tr>\n",
       "\t<tr><td>1        </td><td>3        </td><td>1.6552326</td><td>4.658612 </td><td>59.716667</td><td>3        </td><td>2        </td><td>1        </td><td>1        </td><td>2        </td><td>2        </td><td>11.7     </td><td>20.7     </td><td>14.15346 </td><td>14.9     </td><td>8        </td><td>22.4     </td><td>14.90412 </td><td>0.7506648</td><td>0.7465406</td></tr>\n",
       "\t<tr><td>1        </td><td>4        </td><td>1.0765687</td><td>3.029977 </td><td> 8.166667</td><td>3        </td><td>2        </td><td>1        </td><td>1        </td><td>2        </td><td>2        </td><td>11.7     </td><td>20.7     </td><td>14.15346 </td><td>14.9     </td><td>8        </td><td>22.4     </td><td>14.90412 </td><td>0.7506648</td><td>0.7465406</td></tr>\n",
       "\t<tr><td>1        </td><td>5        </td><td>1.2317595</td><td>3.466757 </td><td> 8.350000</td><td>3        </td><td>2        </td><td>1        </td><td>1        </td><td>2        </td><td>2        </td><td>11.7     </td><td>20.7     </td><td>14.15346 </td><td>14.9     </td><td>8        </td><td>22.4     </td><td>14.90412 </td><td>0.7506648</td><td>0.7465406</td></tr>\n",
       "\t<tr><td>1        </td><td>6        </td><td>1.5965190</td><td>4.493364 </td><td>21.416667</td><td>3        </td><td>2        </td><td>1        </td><td>1        </td><td>2        </td><td>2        </td><td>11.7     </td><td>20.7     </td><td>14.15346 </td><td>14.9     </td><td>8        </td><td>22.4     </td><td>14.90412 </td><td>0.7506648</td><td>0.7465406</td></tr>\n",
       "</tbody>\n",
       "</table>\n"
      ],
      "text/latex": [
       "\\begin{tabular}{r|llllllllllllllllllll}\n",
       " Subject & interval & mean\\_ee & mean\\_mets & mean\\_steps & School & Grade & Teacher & Trt\\_is\\_1 & Gender & Ethnicity & BMI\\_perc\\_fall & BMI\\_perc\\_spring & raw\\_bmi\\_fallyr1 & raw\\_bmi\\_springyr1 & age & bmi\\_springyr2 & raw\\_bmi\\_springyr2 & delta\\_yr2 & delta\\_yr1\\\\\n",
       "\\hline\n",
       "\t 1         & 1         & 0.9842590 & 2.770173  &  1.900000 & 3         & 2         & 1         & 1         & 2         & 2         & 11.7      & 20.7      & 14.15346  & 14.9      & 8         & 22.4      & 14.90412  & 0.7506648 & 0.7465406\\\\\n",
       "\t 1         & 2         & 0.8332303 & 2.345106  &  4.033333 & 3         & 2         & 1         & 1         & 2         & 2         & 11.7      & 20.7      & 14.15346  & 14.9      & 8         & 22.4      & 14.90412  & 0.7506648 & 0.7465406\\\\\n",
       "\t 1         & 3         & 1.6552326 & 4.658612  & 59.716667 & 3         & 2         & 1         & 1         & 2         & 2         & 11.7      & 20.7      & 14.15346  & 14.9      & 8         & 22.4      & 14.90412  & 0.7506648 & 0.7465406\\\\\n",
       "\t 1         & 4         & 1.0765687 & 3.029977  &  8.166667 & 3         & 2         & 1         & 1         & 2         & 2         & 11.7      & 20.7      & 14.15346  & 14.9      & 8         & 22.4      & 14.90412  & 0.7506648 & 0.7465406\\\\\n",
       "\t 1         & 5         & 1.2317595 & 3.466757  &  8.350000 & 3         & 2         & 1         & 1         & 2         & 2         & 11.7      & 20.7      & 14.15346  & 14.9      & 8         & 22.4      & 14.90412  & 0.7506648 & 0.7465406\\\\\n",
       "\t 1         & 6         & 1.5965190 & 4.493364  & 21.416667 & 3         & 2         & 1         & 1         & 2         & 2         & 11.7      & 20.7      & 14.15346  & 14.9      & 8         & 22.4      & 14.90412  & 0.7506648 & 0.7465406\\\\\n",
       "\\end{tabular}\n"
      ],
      "text/markdown": [
       "\n",
       "Subject | interval | mean_ee | mean_mets | mean_steps | School | Grade | Teacher | Trt_is_1 | Gender | Ethnicity | BMI_perc_fall | BMI_perc_spring | raw_bmi_fallyr1 | raw_bmi_springyr1 | age | bmi_springyr2 | raw_bmi_springyr2 | delta_yr2 | delta_yr1 | \n",
       "|---|---|---|---|---|---|\n",
       "| 1         | 1         | 0.9842590 | 2.770173  |  1.900000 | 3         | 2         | 1         | 1         | 2         | 2         | 11.7      | 20.7      | 14.15346  | 14.9      | 8         | 22.4      | 14.90412  | 0.7506648 | 0.7465406 | \n",
       "| 1         | 2         | 0.8332303 | 2.345106  |  4.033333 | 3         | 2         | 1         | 1         | 2         | 2         | 11.7      | 20.7      | 14.15346  | 14.9      | 8         | 22.4      | 14.90412  | 0.7506648 | 0.7465406 | \n",
       "| 1         | 3         | 1.6552326 | 4.658612  | 59.716667 | 3         | 2         | 1         | 1         | 2         | 2         | 11.7      | 20.7      | 14.15346  | 14.9      | 8         | 22.4      | 14.90412  | 0.7506648 | 0.7465406 | \n",
       "| 1         | 4         | 1.0765687 | 3.029977  |  8.166667 | 3         | 2         | 1         | 1         | 2         | 2         | 11.7      | 20.7      | 14.15346  | 14.9      | 8         | 22.4      | 14.90412  | 0.7506648 | 0.7465406 | \n",
       "| 1         | 5         | 1.2317595 | 3.466757  |  8.350000 | 3         | 2         | 1         | 1         | 2         | 2         | 11.7      | 20.7      | 14.15346  | 14.9      | 8         | 22.4      | 14.90412  | 0.7506648 | 0.7465406 | \n",
       "| 1         | 6         | 1.5965190 | 4.493364  | 21.416667 | 3         | 2         | 1         | 1         | 2         | 2         | 11.7      | 20.7      | 14.15346  | 14.9      | 8         | 22.4      | 14.90412  | 0.7506648 | 0.7465406 | \n",
       "\n",
       "\n"
      ],
      "text/plain": [
       "  Subject interval mean_ee   mean_mets mean_steps School Grade Teacher Trt_is_1\n",
       "1 1       1        0.9842590 2.770173   1.900000  3      2     1       1       \n",
       "2 1       2        0.8332303 2.345106   4.033333  3      2     1       1       \n",
       "3 1       3        1.6552326 4.658612  59.716667  3      2     1       1       \n",
       "4 1       4        1.0765687 3.029977   8.166667  3      2     1       1       \n",
       "5 1       5        1.2317595 3.466757   8.350000  3      2     1       1       \n",
       "6 1       6        1.5965190 4.493364  21.416667  3      2     1       1       \n",
       "  Gender Ethnicity BMI_perc_fall BMI_perc_spring raw_bmi_fallyr1\n",
       "1 2      2         11.7          20.7            14.15346       \n",
       "2 2      2         11.7          20.7            14.15346       \n",
       "3 2      2         11.7          20.7            14.15346       \n",
       "4 2      2         11.7          20.7            14.15346       \n",
       "5 2      2         11.7          20.7            14.15346       \n",
       "6 2      2         11.7          20.7            14.15346       \n",
       "  raw_bmi_springyr1 age bmi_springyr2 raw_bmi_springyr2 delta_yr2 delta_yr1\n",
       "1 14.9              8   22.4          14.90412          0.7506648 0.7465406\n",
       "2 14.9              8   22.4          14.90412          0.7506648 0.7465406\n",
       "3 14.9              8   22.4          14.90412          0.7506648 0.7465406\n",
       "4 14.9              8   22.4          14.90412          0.7506648 0.7465406\n",
       "5 14.9              8   22.4          14.90412          0.7506648 0.7465406\n",
       "6 14.9              8   22.4          14.90412          0.7506648 0.7465406"
      ]
     },
     "metadata": {},
     "output_type": "display_data"
    },
    {
     "data": {
      "text/html": [
       "<ol class=list-inline>\n",
       "\t<li>7650</li>\n",
       "\t<li>20</li>\n",
       "</ol>\n"
      ],
      "text/latex": [
       "\\begin{enumerate*}\n",
       "\\item 7650\n",
       "\\item 20\n",
       "\\end{enumerate*}\n"
      ],
      "text/markdown": [
       "1. 7650\n",
       "2. 20\n",
       "\n",
       "\n"
      ],
      "text/plain": [
       "[1] 7650   20"
      ]
     },
     "metadata": {},
     "output_type": "display_data"
    },
    {
     "data": {
      "text/html": [
       "<ol class=list-inline>\n",
       "\t<li>'Subject'</li>\n",
       "\t<li>'interval'</li>\n",
       "\t<li>'mean_ee'</li>\n",
       "\t<li>'mean_mets'</li>\n",
       "\t<li>'mean_steps'</li>\n",
       "\t<li>'School'</li>\n",
       "\t<li>'Grade'</li>\n",
       "\t<li>'Teacher'</li>\n",
       "\t<li>'Trt_is_1'</li>\n",
       "\t<li>'Gender'</li>\n",
       "\t<li>'Ethnicity'</li>\n",
       "\t<li>'BMI_perc_fall'</li>\n",
       "\t<li>'BMI_perc_spring'</li>\n",
       "\t<li>'raw_bmi_fallyr1'</li>\n",
       "\t<li>'raw_bmi_springyr1'</li>\n",
       "\t<li>'age'</li>\n",
       "\t<li>'bmi_springyr2'</li>\n",
       "\t<li>'raw_bmi_springyr2'</li>\n",
       "\t<li>'delta_yr2'</li>\n",
       "\t<li>'delta_yr1'</li>\n",
       "</ol>\n"
      ],
      "text/latex": [
       "\\begin{enumerate*}\n",
       "\\item 'Subject'\n",
       "\\item 'interval'\n",
       "\\item 'mean\\_ee'\n",
       "\\item 'mean\\_mets'\n",
       "\\item 'mean\\_steps'\n",
       "\\item 'School'\n",
       "\\item 'Grade'\n",
       "\\item 'Teacher'\n",
       "\\item 'Trt\\_is\\_1'\n",
       "\\item 'Gender'\n",
       "\\item 'Ethnicity'\n",
       "\\item 'BMI\\_perc\\_fall'\n",
       "\\item 'BMI\\_perc\\_spring'\n",
       "\\item 'raw\\_bmi\\_fallyr1'\n",
       "\\item 'raw\\_bmi\\_springyr1'\n",
       "\\item 'age'\n",
       "\\item 'bmi\\_springyr2'\n",
       "\\item 'raw\\_bmi\\_springyr2'\n",
       "\\item 'delta\\_yr2'\n",
       "\\item 'delta\\_yr1'\n",
       "\\end{enumerate*}\n"
      ],
      "text/markdown": [
       "1. 'Subject'\n",
       "2. 'interval'\n",
       "3. 'mean_ee'\n",
       "4. 'mean_mets'\n",
       "5. 'mean_steps'\n",
       "6. 'School'\n",
       "7. 'Grade'\n",
       "8. 'Teacher'\n",
       "9. 'Trt_is_1'\n",
       "10. 'Gender'\n",
       "11. 'Ethnicity'\n",
       "12. 'BMI_perc_fall'\n",
       "13. 'BMI_perc_spring'\n",
       "14. 'raw_bmi_fallyr1'\n",
       "15. 'raw_bmi_springyr1'\n",
       "16. 'age'\n",
       "17. 'bmi_springyr2'\n",
       "18. 'raw_bmi_springyr2'\n",
       "19. 'delta_yr2'\n",
       "20. 'delta_yr1'\n",
       "\n",
       "\n"
      ],
      "text/plain": [
       " [1] \"Subject\"           \"interval\"          \"mean_ee\"          \n",
       " [4] \"mean_mets\"         \"mean_steps\"        \"School\"           \n",
       " [7] \"Grade\"             \"Teacher\"           \"Trt_is_1\"         \n",
       "[10] \"Gender\"            \"Ethnicity\"         \"BMI_perc_fall\"    \n",
       "[13] \"BMI_perc_spring\"   \"raw_bmi_fallyr1\"   \"raw_bmi_springyr1\"\n",
       "[16] \"age\"               \"bmi_springyr2\"     \"raw_bmi_springyr2\"\n",
       "[19] \"delta_yr2\"         \"delta_yr1\"        "
      ]
     },
     "metadata": {},
     "output_type": "display_data"
    },
    {
     "data": {
      "text/html": [
       "9990"
      ],
      "text/latex": [
       "9990"
      ],
      "text/markdown": [
       "9990"
      ],
      "text/plain": [
       "[1] 9990"
      ]
     },
     "metadata": {},
     "output_type": "display_data"
    },
    {
     "name": "stdout",
     "output_type": "stream",
     "text": [
      " chr [1:4650] \"2\" \"2\" \"2\" \"2\" \"2\" \"2\" \"2\" \"2\" \"2\" \"2\" \"2\" \"2\" \"2\" \"2\" \"2\" ...\n"
     ]
    }
   ],
   "source": [
    "### load data #### \n",
    "setwd(\"C:/Users/Jimny/Desktop/Study/STAT689/Project\")\n",
    "data_w = read.csv(\"flr_iv_data_gilson.csv\",header=TRUE)\n",
    "head(data_w)\n",
    "dim(data_w)\n",
    "names(data_w)\n",
    "\n",
    "####### data checking ########\n",
    "## check missing values ####\n",
    "sum(is.na(data_w))\n",
    "\n",
    "### drop missing values ###\n",
    "data_clean <- na.omit(data_w)\n",
    "\n",
    "data_clean$Gender <-as.character(data_clean$Gender)\n",
    "str(data_clean$Gender)"
   ]
  },
  {
   "cell_type": "code",
   "execution_count": 8,
   "metadata": {},
   "outputs": [],
   "source": [
    "#multiplot() for plot multiple plots with ggplot()\n",
    "multiplot <- function(..., plotlist=NULL, file, cols=1, layout=NULL) {\n",
    "  library(grid)\n",
    "\n",
    "  # Make a list from the ... arguments and plotlist\n",
    "  plots <- c(list(...), plotlist)\n",
    "\n",
    "  numPlots = length(plots)\n",
    "\n",
    "  # If layout is NULL, then use 'cols' to determine layout\n",
    "  if (is.null(layout)) {\n",
    "    # Make the panel\n",
    "    # ncol: Number of columns of plots\n",
    "    # nrow: Number of rows needed, calculated from # of cols\n",
    "    layout <- matrix(seq(1, cols * ceiling(numPlots/cols)),\n",
    "                     ncol = cols, nrow = ceiling(numPlots/cols))\n",
    "  }\n",
    "\n",
    "  if (numPlots==1) {\n",
    "    print(plots[[1]])\n",
    "\n",
    "  } else {\n",
    "    # Set up the page\n",
    "    grid.newpage()\n",
    "    pushViewport(viewport(layout = grid.layout(nrow(layout), ncol(layout))))\n",
    "\n",
    "    # Make each plot, in the correct location\n",
    "    for (i in 1:numPlots) {\n",
    "      # Get the i,j matrix positions of the regions that contain this subplot\n",
    "      matchidx <- as.data.frame(which(layout == i, arr.ind = TRUE))\n",
    "\n",
    "      print(plots[[i]], vp = viewport(layout.pos.row = matchidx$row,\n",
    "                                      layout.pos.col = matchidx$col))\n",
    "    }\n",
    "  }\n",
    "}"
   ]
  },
  {
   "cell_type": "code",
   "execution_count": 9,
   "metadata": {},
   "outputs": [
    {
     "name": "stderr",
     "output_type": "stream",
     "text": [
      "`geom_smooth()` using method = 'gam'\n"
     ]
    },
    {
     "data": {},
     "metadata": {},
     "output_type": "display_data"
    },
    {
     "data": {
      "image/png": "[encoded data removed]",
      "text/plain": [
       "plot without title"
      ]
     },
     "metadata": {},
     "output_type": "display_data"
    }
   ],
   "source": [
    "################ BMI vs mean EE stratified by gender #############\n",
    "\n",
    "qplot( delta_yr1, mean_ee, data=data_clean, geom= \"smooth\",  color=Gender, \n",
    "       main=\"Distribution of BMI Difference against Mean Energy Expeniture\", \n",
    "       xlab=\"Mean Engergy Expeniture\", ylab=\"BMI difference\")"
   ]
  },
  {
   "cell_type": "code",
   "execution_count": 10,
   "metadata": {},
   "outputs": [
    {
     "name": "stderr",
     "output_type": "stream",
     "text": [
      "`geom_smooth()` using method = 'gam'\n"
     ]
    },
    {
     "data": {},
     "metadata": {},
     "output_type": "display_data"
    },
    {
     "data": {
      "image/png": "[encoded data removed]",
      "text/plain": [
       "plot without title"
      ]
     },
     "metadata": {},
     "output_type": "display_data"
    }
   ],
   "source": [
    "################ general BMI vs mean EE #############\n",
    "qplot( delta_yr1, mean_ee, data=data_clean, geom= \"smooth\",\n",
    "       main=\"Distribution of BMI Difference against Mean Energy Expeniture\", \n",
    "       xlab=\"Mean Engergy Expeniture\", ylab=\"BMI difference\")"
   ]
  },
  {
   "cell_type": "code",
   "execution_count": 11,
   "metadata": {},
   "outputs": [
    {
     "data": {},
     "metadata": {},
     "output_type": "display_data"
    },
    {
     "data": {},
     "metadata": {},
     "output_type": "display_data"
    },
    {
     "data": {
      "image/png": "[encoded data removed]",
      "text/plain": [
       "plot without title"
      ]
     },
     "metadata": {},
     "output_type": "display_data"
    },
    {
     "data": {
      "image/png": "[encoded data removed]",
      "text/plain": [
       "plot without title"
      ]
     },
     "metadata": {},
     "output_type": "display_data"
    }
   ],
   "source": [
    "############ density plot of BMI for fall year 1 and spring year1 #########\n",
    "qplot(raw_bmi_fallyr1, data=data_clean, geom= \"density\",alpha=I(.5), \n",
    "      main=\"Distribution of BMI at Fisrt Fall\", \n",
    "      xlab=\"BMI\", ylab=\"density\")\n",
    "\n",
    "qplot(raw_bmi_springyr1, data=data_clean, geom= \"density\",alpha=I(.5), \n",
    "      main=\"Distribution of BMI at Fisrt Spring\", \n",
    "      xlab=\"BMI\", ylab=\"density\")"
   ]
  },
  {
   "cell_type": "code",
   "execution_count": 13,
   "metadata": {},
   "outputs": [
    {
     "data": {
      "text/html": [
       "<strong>null device:</strong> 1"
      ],
      "text/latex": [
       "\\textbf{null device:} 1"
      ],
      "text/markdown": [
       "**null device:** 1"
      ],
      "text/plain": [
       "null device \n",
       "          1 "
      ]
     },
     "metadata": {},
     "output_type": "display_data"
    },
    {
     "ename": "ERROR",
     "evalue": "Error in factor(meanEELevel): object 'meanEELevel' not found\n",
     "output_type": "error",
     "traceback": [
      "Error in factor(meanEELevel): object 'meanEELevel' not found\nTraceback:\n",
      "1. print(p2)",
      "2. print.ggplot(p2)",
      "3. ggplot_build(x)",
      "4. by_layer(function(l, d) l$compute_aesthetics(d, plot))",
      "5. f(l = layers[[i]], d = data[[i]])",
      "6. l$compute_aesthetics(d, plot)",
      "7. f(..., self = self)",
      "8. lapply(aesthetics, eval, envir = data, enclos = plot$plot_env)",
      "9. FUN(X[[i]], ...)",
      "10. FUN(X[[i]], ...)",
      "11. factor(meanEELevel)"
     ]
    }
   ],
   "source": [
    "## Data and plot settings\n",
    "dev.off()\n",
    "\n",
    "p <- ggplot(data_clean, aes(factor(meanEELevel), delta_yr1)) +\n",
    "  labs(list(title = \"Chicken weights after six weeks\", x = \"Energy expeniture\", y = \"BMI Difference\")) +\n",
    "  theme(axis.title.x = element_text(face=\"bold\"), axis.text.x = element_text(face=\"bold\")) +\n",
    "  theme(axis.title.y = element_text(face=\"bold\"), axis.text.y = element_text(face=\"bold\"))\n",
    "\n",
    "p2 <- p + geom_boxplot(outlier.size = 0, coef = 0)\n",
    "print(p2)\n",
    "\n",
    "\n",
    "p2 <- p + geom_boxplot(aes(ymin=..lower.., ymax=..upper..), outlier.size=0) \n",
    "print(p2)"
   ]
  },
  {
   "cell_type": "code",
   "execution_count": null,
   "metadata": {},
   "outputs": [],
   "source": []
  }
 ],
 "metadata": {
  "kernelspec": {
   "display_name": "R",
   "language": "R",
   "name": "ir"
  },
  "language_info": {
   "codemirror_mode": "r",
   "file_extension": ".r",
   "mimetype": "text/x-r-source",
   "name": "R",
   "pygments_lexer": "r",
   "version": "3.4.3"
  }
 },
 "nbformat": 4,
 "nbformat_minor": 2
}
