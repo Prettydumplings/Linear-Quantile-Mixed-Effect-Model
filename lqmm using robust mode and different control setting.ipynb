{
 "cells": [
  {
   "cell_type": "code",
   "execution_count": 8,
   "metadata": {},
   "outputs": [
    {
     "data": {
      "text/html": [
       "'C:/Users/Jimny/Anaconda3/Lib/R/library'"
      ],
      "text/latex": [
       "'C:/Users/Jimny/Anaconda3/Lib/R/library'"
      ],
      "text/markdown": [
       "'C:/Users/Jimny/Anaconda3/Lib/R/library'"
      ],
      "text/plain": [
       "[1] \"C:/Users/Jimny/Anaconda3/Lib/R/library\""
      ]
     },
     "metadata": {},
     "output_type": "display_data"
    }
   ],
   "source": [
    "library(SparseGrid)\n",
    "library(lqmm)\n",
    ".libPaths()"
   ]
  },
  {
   "cell_type": "code",
   "execution_count": 3,
   "metadata": {},
   "outputs": [
    {
     "data": {
      "text/html": [
       "<table>\n",
       "<thead><tr><th scope=col>Subject</th><th scope=col>interval</th><th scope=col>mean_ee</th><th scope=col>mean_mets</th><th scope=col>mean_steps</th><th scope=col>School</th><th scope=col>Grade</th><th scope=col>Teacher</th><th scope=col>Trt_is_1</th><th scope=col>Gender</th><th scope=col>Ethnicity</th><th scope=col>BMI_perc_fall</th><th scope=col>BMI_perc_spring</th><th scope=col>raw_bmi_fallyr1</th><th scope=col>raw_bmi_springyr1</th><th scope=col>age</th><th scope=col>bmi_springyr2</th><th scope=col>raw_bmi_springyr2</th><th scope=col>delta_yr2</th><th scope=col>delta_yr1</th></tr></thead>\n",
       "<tbody>\n",
       "\t<tr><td>1        </td><td>1        </td><td>0.9842590</td><td>2.770173 </td><td> 1.900000</td><td>3        </td><td>2        </td><td>1        </td><td>1        </td><td>2        </td><td>2        </td><td>11.7     </td><td>20.7     </td><td>14.15346 </td><td>14.9     </td><td>8        </td><td>22.4     </td><td>14.90412 </td><td>0.7506648</td><td>0.7465406</td></tr>\n",
       "\t<tr><td>1        </td><td>2        </td><td>0.8332303</td><td>2.345106 </td><td> 4.033333</td><td>3        </td><td>2        </td><td>1        </td><td>1        </td><td>2        </td><td>2        </td><td>11.7     </td><td>20.7     </td><td>14.15346 </td><td>14.9     </td><td>8        </td><td>22.4     </td><td>14.90412 </td><td>0.7506648</td><td>0.7465406</td></tr>\n",
       "\t<tr><td>1        </td><td>3        </td><td>1.6552326</td><td>4.658612 </td><td>59.716667</td><td>3        </td><td>2        </td><td>1        </td><td>1        </td><td>2        </td><td>2        </td><td>11.7     </td><td>20.7     </td><td>14.15346 </td><td>14.9     </td><td>8        </td><td>22.4     </td><td>14.90412 </td><td>0.7506648</td><td>0.7465406</td></tr>\n",
       "\t<tr><td>1        </td><td>4        </td><td>1.0765687</td><td>3.029977 </td><td> 8.166667</td><td>3        </td><td>2        </td><td>1        </td><td>1        </td><td>2        </td><td>2        </td><td>11.7     </td><td>20.7     </td><td>14.15346 </td><td>14.9     </td><td>8        </td><td>22.4     </td><td>14.90412 </td><td>0.7506648</td><td>0.7465406</td></tr>\n",
       "\t<tr><td>1        </td><td>5        </td><td>1.2317595</td><td>3.466757 </td><td> 8.350000</td><td>3        </td><td>2        </td><td>1        </td><td>1        </td><td>2        </td><td>2        </td><td>11.7     </td><td>20.7     </td><td>14.15346 </td><td>14.9     </td><td>8        </td><td>22.4     </td><td>14.90412 </td><td>0.7506648</td><td>0.7465406</td></tr>\n",
       "\t<tr><td>1        </td><td>6        </td><td>1.5965190</td><td>4.493364 </td><td>21.416667</td><td>3        </td><td>2        </td><td>1        </td><td>1        </td><td>2        </td><td>2        </td><td>11.7     </td><td>20.7     </td><td>14.15346 </td><td>14.9     </td><td>8        </td><td>22.4     </td><td>14.90412 </td><td>0.7506648</td><td>0.7465406</td></tr>\n",
       "</tbody>\n",
       "</table>\n"
      ],
      "text/latex": [
       "\\begin{tabular}{r|llllllllllllllllllll}\n",
       " Subject & interval & mean\\_ee & mean\\_mets & mean\\_steps & School & Grade & Teacher & Trt\\_is\\_1 & Gender & Ethnicity & BMI\\_perc\\_fall & BMI\\_perc\\_spring & raw\\_bmi\\_fallyr1 & raw\\_bmi\\_springyr1 & age & bmi\\_springyr2 & raw\\_bmi\\_springyr2 & delta\\_yr2 & delta\\_yr1\\\\\n",
       "\\hline\n",
       "\t 1         & 1         & 0.9842590 & 2.770173  &  1.900000 & 3         & 2         & 1         & 1         & 2         & 2         & 11.7      & 20.7      & 14.15346  & 14.9      & 8         & 22.4      & 14.90412  & 0.7506648 & 0.7465406\\\\\n",
       "\t 1         & 2         & 0.8332303 & 2.345106  &  4.033333 & 3         & 2         & 1         & 1         & 2         & 2         & 11.7      & 20.7      & 14.15346  & 14.9      & 8         & 22.4      & 14.90412  & 0.7506648 & 0.7465406\\\\\n",
       "\t 1         & 3         & 1.6552326 & 4.658612  & 59.716667 & 3         & 2         & 1         & 1         & 2         & 2         & 11.7      & 20.7      & 14.15346  & 14.9      & 8         & 22.4      & 14.90412  & 0.7506648 & 0.7465406\\\\\n",
       "\t 1         & 4         & 1.0765687 & 3.029977  &  8.166667 & 3         & 2         & 1         & 1         & 2         & 2         & 11.7      & 20.7      & 14.15346  & 14.9      & 8         & 22.4      & 14.90412  & 0.7506648 & 0.7465406\\\\\n",
       "\t 1         & 5         & 1.2317595 & 3.466757  &  8.350000 & 3         & 2         & 1         & 1         & 2         & 2         & 11.7      & 20.7      & 14.15346  & 14.9      & 8         & 22.4      & 14.90412  & 0.7506648 & 0.7465406\\\\\n",
       "\t 1         & 6         & 1.5965190 & 4.493364  & 21.416667 & 3         & 2         & 1         & 1         & 2         & 2         & 11.7      & 20.7      & 14.15346  & 14.9      & 8         & 22.4      & 14.90412  & 0.7506648 & 0.7465406\\\\\n",
       "\\end{tabular}\n"
      ],
      "text/markdown": [
       "\n",
       "Subject | interval | mean_ee | mean_mets | mean_steps | School | Grade | Teacher | Trt_is_1 | Gender | Ethnicity | BMI_perc_fall | BMI_perc_spring | raw_bmi_fallyr1 | raw_bmi_springyr1 | age | bmi_springyr2 | raw_bmi_springyr2 | delta_yr2 | delta_yr1 | \n",
       "|---|---|---|---|---|---|\n",
       "| 1         | 1         | 0.9842590 | 2.770173  |  1.900000 | 3         | 2         | 1         | 1         | 2         | 2         | 11.7      | 20.7      | 14.15346  | 14.9      | 8         | 22.4      | 14.90412  | 0.7506648 | 0.7465406 | \n",
       "| 1         | 2         | 0.8332303 | 2.345106  |  4.033333 | 3         | 2         | 1         | 1         | 2         | 2         | 11.7      | 20.7      | 14.15346  | 14.9      | 8         | 22.4      | 14.90412  | 0.7506648 | 0.7465406 | \n",
       "| 1         | 3         | 1.6552326 | 4.658612  | 59.716667 | 3         | 2         | 1         | 1         | 2         | 2         | 11.7      | 20.7      | 14.15346  | 14.9      | 8         | 22.4      | 14.90412  | 0.7506648 | 0.7465406 | \n",
       "| 1         | 4         | 1.0765687 | 3.029977  |  8.166667 | 3         | 2         | 1         | 1         | 2         | 2         | 11.7      | 20.7      | 14.15346  | 14.9      | 8         | 22.4      | 14.90412  | 0.7506648 | 0.7465406 | \n",
       "| 1         | 5         | 1.2317595 | 3.466757  |  8.350000 | 3         | 2         | 1         | 1         | 2         | 2         | 11.7      | 20.7      | 14.15346  | 14.9      | 8         | 22.4      | 14.90412  | 0.7506648 | 0.7465406 | \n",
       "| 1         | 6         | 1.5965190 | 4.493364  | 21.416667 | 3         | 2         | 1         | 1         | 2         | 2         | 11.7      | 20.7      | 14.15346  | 14.9      | 8         | 22.4      | 14.90412  | 0.7506648 | 0.7465406 | \n",
       "\n",
       "\n"
      ],
      "text/plain": [
       "  Subject interval mean_ee   mean_mets mean_steps School Grade Teacher Trt_is_1\n",
       "1 1       1        0.9842590 2.770173   1.900000  3      2     1       1       \n",
       "2 1       2        0.8332303 2.345106   4.033333  3      2     1       1       \n",
       "3 1       3        1.6552326 4.658612  59.716667  3      2     1       1       \n",
       "4 1       4        1.0765687 3.029977   8.166667  3      2     1       1       \n",
       "5 1       5        1.2317595 3.466757   8.350000  3      2     1       1       \n",
       "6 1       6        1.5965190 4.493364  21.416667  3      2     1       1       \n",
       "  Gender Ethnicity BMI_perc_fall BMI_perc_spring raw_bmi_fallyr1\n",
       "1 2      2         11.7          20.7            14.15346       \n",
       "2 2      2         11.7          20.7            14.15346       \n",
       "3 2      2         11.7          20.7            14.15346       \n",
       "4 2      2         11.7          20.7            14.15346       \n",
       "5 2      2         11.7          20.7            14.15346       \n",
       "6 2      2         11.7          20.7            14.15346       \n",
       "  raw_bmi_springyr1 age bmi_springyr2 raw_bmi_springyr2 delta_yr2 delta_yr1\n",
       "1 14.9              8   22.4          14.90412          0.7506648 0.7465406\n",
       "2 14.9              8   22.4          14.90412          0.7506648 0.7465406\n",
       "3 14.9              8   22.4          14.90412          0.7506648 0.7465406\n",
       "4 14.9              8   22.4          14.90412          0.7506648 0.7465406\n",
       "5 14.9              8   22.4          14.90412          0.7506648 0.7465406\n",
       "6 14.9              8   22.4          14.90412          0.7506648 0.7465406"
      ]
     },
     "metadata": {},
     "output_type": "display_data"
    },
    {
     "data": {
      "text/html": [
       "<ol class=list-inline>\n",
       "\t<li>7650</li>\n",
       "\t<li>20</li>\n",
       "</ol>\n"
      ],
      "text/latex": [
       "\\begin{enumerate*}\n",
       "\\item 7650\n",
       "\\item 20\n",
       "\\end{enumerate*}\n"
      ],
      "text/markdown": [
       "1. 7650\n",
       "2. 20\n",
       "\n",
       "\n"
      ],
      "text/plain": [
       "[1] 7650   20"
      ]
     },
     "metadata": {},
     "output_type": "display_data"
    },
    {
     "data": {
      "text/html": [
       "<ol class=list-inline>\n",
       "\t<li>'Subject'</li>\n",
       "\t<li>'interval'</li>\n",
       "\t<li>'mean_ee'</li>\n",
       "\t<li>'mean_mets'</li>\n",
       "\t<li>'mean_steps'</li>\n",
       "\t<li>'School'</li>\n",
       "\t<li>'Grade'</li>\n",
       "\t<li>'Teacher'</li>\n",
       "\t<li>'Trt_is_1'</li>\n",
       "\t<li>'Gender'</li>\n",
       "\t<li>'Ethnicity'</li>\n",
       "\t<li>'BMI_perc_fall'</li>\n",
       "\t<li>'BMI_perc_spring'</li>\n",
       "\t<li>'raw_bmi_fallyr1'</li>\n",
       "\t<li>'raw_bmi_springyr1'</li>\n",
       "\t<li>'age'</li>\n",
       "\t<li>'bmi_springyr2'</li>\n",
       "\t<li>'raw_bmi_springyr2'</li>\n",
       "\t<li>'delta_yr2'</li>\n",
       "\t<li>'delta_yr1'</li>\n",
       "</ol>\n"
      ],
      "text/latex": [
       "\\begin{enumerate*}\n",
       "\\item 'Subject'\n",
       "\\item 'interval'\n",
       "\\item 'mean\\_ee'\n",
       "\\item 'mean\\_mets'\n",
       "\\item 'mean\\_steps'\n",
       "\\item 'School'\n",
       "\\item 'Grade'\n",
       "\\item 'Teacher'\n",
       "\\item 'Trt\\_is\\_1'\n",
       "\\item 'Gender'\n",
       "\\item 'Ethnicity'\n",
       "\\item 'BMI\\_perc\\_fall'\n",
       "\\item 'BMI\\_perc\\_spring'\n",
       "\\item 'raw\\_bmi\\_fallyr1'\n",
       "\\item 'raw\\_bmi\\_springyr1'\n",
       "\\item 'age'\n",
       "\\item 'bmi\\_springyr2'\n",
       "\\item 'raw\\_bmi\\_springyr2'\n",
       "\\item 'delta\\_yr2'\n",
       "\\item 'delta\\_yr1'\n",
       "\\end{enumerate*}\n"
      ],
      "text/markdown": [
       "1. 'Subject'\n",
       "2. 'interval'\n",
       "3. 'mean_ee'\n",
       "4. 'mean_mets'\n",
       "5. 'mean_steps'\n",
       "6. 'School'\n",
       "7. 'Grade'\n",
       "8. 'Teacher'\n",
       "9. 'Trt_is_1'\n",
       "10. 'Gender'\n",
       "11. 'Ethnicity'\n",
       "12. 'BMI_perc_fall'\n",
       "13. 'BMI_perc_spring'\n",
       "14. 'raw_bmi_fallyr1'\n",
       "15. 'raw_bmi_springyr1'\n",
       "16. 'age'\n",
       "17. 'bmi_springyr2'\n",
       "18. 'raw_bmi_springyr2'\n",
       "19. 'delta_yr2'\n",
       "20. 'delta_yr1'\n",
       "\n",
       "\n"
      ],
      "text/plain": [
       " [1] \"Subject\"           \"interval\"          \"mean_ee\"          \n",
       " [4] \"mean_mets\"         \"mean_steps\"        \"School\"           \n",
       " [7] \"Grade\"             \"Teacher\"           \"Trt_is_1\"         \n",
       "[10] \"Gender\"            \"Ethnicity\"         \"BMI_perc_fall\"    \n",
       "[13] \"BMI_perc_spring\"   \"raw_bmi_fallyr1\"   \"raw_bmi_springyr1\"\n",
       "[16] \"age\"               \"bmi_springyr2\"     \"raw_bmi_springyr2\"\n",
       "[19] \"delta_yr2\"         \"delta_yr1\"        "
      ]
     },
     "metadata": {},
     "output_type": "display_data"
    },
    {
     "data": {
      "text/html": [
       "9990"
      ],
      "text/latex": [
       "9990"
      ],
      "text/markdown": [
       "9990"
      ],
      "text/plain": [
       "[1] 9990"
      ]
     },
     "metadata": {},
     "output_type": "display_data"
    },
    {
     "name": "stdout",
     "output_type": "stream",
     "text": [
      " chr [1:4650] \"2\" \"2\" \"2\" \"2\" \"2\" \"2\" \"2\" \"2\" \"2\" \"2\" \"2\" \"2\" \"2\" \"2\" \"2\" ...\n"
     ]
    }
   ],
   "source": [
    "### load data #### \n",
    "setwd(\"C:/Users/Jimny/Desktop/Study/STAT689/Project\")\n",
    "data_w = read.csv(\"flr_iv_data_gilson.csv\",header=TRUE)\n",
    "head(data_w)\n",
    "dim(data_w)\n",
    "names(data_w)\n",
    "\n",
    "####### data checking ########\n",
    "## check missing values ####\n",
    "sum(is.na(data_w))\n",
    "\n",
    "### drop missing values ###\n",
    "data_clean <- na.omit(data_w)\n",
    "\n",
    "data_clean$Gender <-as.character(data_clean$Gender)\n",
    "str(data_clean$Gender)"
   ]
  },
  {
   "cell_type": "code",
   "execution_count": 4,
   "metadata": {},
   "outputs": [
    {
     "name": "stderr",
     "output_type": "stream",
     "text": [
      "Warning message in errorHandling(OPTIMIZATION$low_loop, \"low\", control$LP_max_iter, :\n",
      "\"Lower loop did not converge in: lqmm. Try increasing max number of iterations (500) or tolerance (1e-05)\n",
      "\"Warning message in if (sigma < 0) warning(\"Scale parameter 'sigma' is negative\"):\n",
      "\"the condition has length > 1 and only the first element will be used\""
     ]
    },
    {
     "data": {
      "text/plain": [
       "Call: lqmm(fixed = raw_bmi_springyr2 ~ mean_ee, random = ~1, group = Subject, \n",
       "    tau = c(0.25, 0.5, 0.75), nK = 7, type = \"robust\", data = data_clean)\n",
       "\n",
       "Fixed effects:\n",
       "             tau = 0.25  tau = 0.50  tau = 0.75\n",
       "(Intercept)  15.8771     15.7859     16.1201   \n",
       "mean_ee       0.4357      0.6348      0.6611   \n",
       "\n",
       "Covariance matrix of the random effects:\n",
       "tau = 0.25\n",
       "(Intercept) \n",
       "      5.265 \n",
       "tau = 0.5\n",
       "(Intercept) \n",
       "      7.473 \n",
       "tau = 0.75\n",
       "(Intercept) \n",
       "      56.56 \n",
       "\n",
       "Residual scale parameter: 0.2293 (tau = 0.25)  0.3351 (tau = 0.5)  0.3586 (tau = 0.75) \n",
       "Log-likelihood: -5821 (tau = 0.25)  -6223 (tau = 0.5)  -7761 (tau = 0.75) \n",
       "\n",
       "Number of observations: 4650 \n",
       "Number of groups: 155 "
      ]
     },
     "metadata": {},
     "output_type": "display_data"
    },
    {
     "name": "stderr",
     "output_type": "stream",
     "text": [
      "Warning message in summary.lqmm(fit.lqmm):\n",
      "\"Negative LR test (set to zero).\"Warning message in errorHandling(OPTIMIZATION$low_loop, \"low\", control$LP_max_iter, :\n",
      "\"Lower loop did not converge in: lqmm. Try increasing max number of iterations (500) or tolerance (1e-05)\n",
      "\"Warning message in errorHandling(OPTIMIZATION$low_loop, \"low\", control$LP_max_iter, :\n",
      "\"Lower loop did not converge in: lqmm. Try increasing max number of iterations (500) or tolerance (1e-05)\n",
      "\"Warning message in errorHandling(OPTIMIZATION$low_loop, \"low\", control$LP_max_iter, :\n",
      "\"Lower loop did not converge in: lqmm. Try increasing max number of iterations (500) or tolerance (1e-05)\n",
      "\"Warning message in errorHandling(OPTIMIZATION$low_loop, \"low\", control$LP_max_iter, :\n",
      "\"Lower loop did not converge in: lqmm. Try increasing max number of iterations (500) or tolerance (1e-05)\n",
      "\"Warning message in errorHandling(OPTIMIZATION$low_loop, \"low\", control$LP_max_iter, :\n",
      "\"Lower loop did not converge in: lqmm. Try increasing max number of iterations (500) or tolerance (1e-05)\n",
      "\"Warning message in errorHandling(OPTIMIZATION$low_loop, \"low\", control$LP_max_iter, :\n",
      "\"Lower loop did not converge in: lqmm. Try increasing max number of iterations (500) or tolerance (1e-05)\n",
      "\"Warning message in errorHandling(OPTIMIZATION$low_loop, \"low\", control$LP_max_iter, :\n",
      "\"Lower loop did not converge in: lqmm. Try increasing max number of iterations (500) or tolerance (1e-05)\n",
      "\""
     ]
    },
    {
     "data": {
      "text/plain": [
       "Call: lqmm(fixed = raw_bmi_springyr2 ~ mean_ee, random = ~1, group = Subject, \n",
       "    tau = c(0.25, 0.5, 0.75), nK = 7, type = \"robust\", data = data_clean)\n",
       "\n",
       "tau = 0.25\n",
       "\n",
       "Fixed effects:\n",
       "               Value Std. Error lower bound upper bound Pr(>|t|)    \n",
       "(Intercept) 15.87712    0.60934    14.65259     17.1016   <2e-16 ***\n",
       "mean_ee      0.43575    0.27091    -0.10868      0.9802   0.1142    \n",
       "---\n",
       "Signif. codes:  0 '***' 0.001 '**' 0.01 '*' 0.05 '.' 0.1 ' ' 1\n",
       "\n",
       "tau = 0.5\n",
       "\n",
       "Fixed effects:\n",
       "                 Value Std. Error lower bound upper bound Pr(>|t|)    \n",
       "(Intercept) 15.7859289  0.7684031  14.2417651     17.3301  < 2e-16 ***\n",
       "mean_ee      0.6347870  0.3123663   0.0070634      1.2625  0.04757 *  \n",
       "---\n",
       "Signif. codes:  0 '***' 0.001 '**' 0.01 '*' 0.05 '.' 0.1 ' ' 1\n",
       "\n",
       "tau = 0.75\n",
       "\n",
       "Fixed effects:\n",
       "               Value Std. Error lower bound upper bound Pr(>|t|)    \n",
       "(Intercept) 16.12012    0.84656    14.41890     17.8213   <2e-16 ***\n",
       "mean_ee      0.66110    0.61608    -0.57696      1.8992   0.2885    \n",
       "---\n",
       "Signif. codes:  0 '***' 0.001 '**' 0.01 '*' 0.05 '.' 0.1 ' ' 1\n",
       "\n",
       "AIC:\n",
       "[1] 11651 (df = 4) 12453 (df = 4) 15530 (df = 4)"
      ]
     },
     "metadata": {},
     "output_type": "display_data"
    }
   ],
   "source": [
    "################ lqmm robust for raw BMI###########################\n",
    "fit.lqmm <- lqmm(fixed = raw_bmi_springyr2 ~ mean_ee, random = ~ 1, group = Subject,\n",
    "                 data = data_clean, tau = c(0.25,0.5,0.75), nK = 7, type = \"robust\")\n",
    "fit.lqmm\n",
    "\n",
    "summary(fit.lqmm)\n"
   ]
  },
  {
   "cell_type": "code",
   "execution_count": 6,
   "metadata": {},
   "outputs": [
    {
     "name": "stderr",
     "output_type": "stream",
     "text": [
      "Warning message in if (sigma < 0) warning(\"Scale parameter 'sigma' is negative\"):\n",
      "\"the condition has length > 1 and only the first element will be used\"Warning message in covHandling(theta = theta_z[, i], n = q, cov_name = cov_name, :\n",
      "\"Not positive-definite variance-covariance of random effects.\"Warning message in covHandling(theta = theta_z[, i], n = q, cov_name = cov_name, :\n",
      "\"Not positive-definite variance-covariance of random effects.\""
     ]
    },
    {
     "data": {
      "text/plain": [
       "Call: lqmm(fixed = delta_yr1 ~ mean_ee * Gender, random = ~1, group = Subject, \n",
       "    tau = c(0.25, 0.5, 0.75), nK = 7, type = \"robust\", data = data_clean, \n",
       "    control = lqmmControl(method = \"gs\", LP_tol_ll = 0.001, LP_max_iter = 1000))\n",
       "\n",
       "Fixed effects:\n",
       "                 tau = 0.25  tau = 0.50  tau = 0.75\n",
       "(Intercept)      -0.207428   -0.006952   -0.042141 \n",
       "mean_ee           0.109377    0.133495    0.259617 \n",
       "Gender2           0.388644    0.205917    0.739350 \n",
       "mean_ee:Gender2  -0.136627   -0.150912   -0.289834 \n",
       "\n",
       "Covariance matrix of the random effects:\n",
       "tau = 0.25\n",
       "(Intercept) \n",
       "     0.5876 \n",
       "tau = 0.5\n",
       "(Intercept) \n",
       "  3.944e-31 \n",
       "tau = 0.75\n",
       "(Intercept) \n",
       "  3.944e-31 \n",
       "\n",
       "Residual scale parameter: 0.06227 (tau = 0.25)  0.07647 (tau = 0.5)  0.06395 (tau = 0.75) \n",
       "Log-likelihood: 285.6 (tau = 0.25)  678.7 (tau = 0.5)  153.4 (tau = 0.75) \n",
       "\n",
       "Number of observations: 4650 \n",
       "Number of groups: 155 "
      ]
     },
     "metadata": {},
     "output_type": "display_data"
    },
    {
     "name": "stderr",
     "output_type": "stream",
     "text": [
      "Warning message in summary.lqmm(fit.lqmm):\n",
      "\"Negative LR test (set to zero).\"Warning message in errorHandling(OPTIMIZATION$low_loop, \"low\", control$LP_max_iter, :\n",
      "\"Lower loop did not converge in: lqmm. Try increasing max number of iterations (1000) or tolerance (0.001)\n",
      "\"Warning message in errorHandling(OPTIMIZATION$low_loop, \"low\", control$LP_max_iter, :\n",
      "\"Lower loop did not converge in: lqmm. Try increasing max number of iterations (1000) or tolerance (0.001)\n",
      "\"Warning message in errorHandling(OPTIMIZATION$low_loop, \"low\", control$LP_max_iter, :\n",
      "\"Lower loop did not converge in: lqmm. Try increasing max number of iterations (1000) or tolerance (0.001)\n",
      "\"Warning message in errorHandling(OPTIMIZATION$low_loop, \"low\", control$LP_max_iter, :\n",
      "\"Lower loop did not converge in: lqmm. Try increasing max number of iterations (1000) or tolerance (0.001)\n",
      "\"Warning message in errorHandling(OPTIMIZATION$low_loop, \"low\", control$LP_max_iter, :\n",
      "\"Lower loop did not converge in: lqmm. Try increasing max number of iterations (1000) or tolerance (0.001)\n",
      "\"Warning message in errorHandling(OPTIMIZATION$low_loop, \"low\", control$LP_max_iter, :\n",
      "\"Lower loop did not converge in: lqmm. Try increasing max number of iterations (1000) or tolerance (0.001)\n",
      "\"Warning message in errorHandling(OPTIMIZATION$low_loop, \"low\", control$LP_max_iter, :\n",
      "\"Lower loop did not converge in: lqmm. Try increasing max number of iterations (1000) or tolerance (0.001)\n",
      "\"Warning message in errorHandling(OPTIMIZATION$low_loop, \"low\", control$LP_max_iter, :\n",
      "\"Lower loop did not converge in: lqmm. Try increasing max number of iterations (1000) or tolerance (0.001)\n",
      "\"Warning message in errorHandling(OPTIMIZATION$low_loop, \"low\", control$LP_max_iter, :\n",
      "\"Lower loop did not converge in: lqmm. Try increasing max number of iterations (1000) or tolerance (0.001)\n",
      "\"Warning message in errorHandling(OPTIMIZATION$low_loop, \"low\", control$LP_max_iter, :\n",
      "\"Lower loop did not converge in: lqmm. Try increasing max number of iterations (1000) or tolerance (0.001)\n",
      "\"Warning message in errorHandling(OPTIMIZATION$low_loop, \"low\", control$LP_max_iter, :\n",
      "\"Lower loop did not converge in: lqmm. Try increasing max number of iterations (1000) or tolerance (0.001)\n",
      "\""
     ]
    },
    {
     "data": {
      "text/plain": [
       "Call: lqmm(fixed = delta_yr1 ~ mean_ee * Gender, random = ~1, group = Subject, \n",
       "    tau = c(0.25, 0.5, 0.75), nK = 7, type = \"robust\", data = data_clean, \n",
       "    control = lqmmControl(method = \"gs\", LP_tol_ll = 0.001, LP_max_iter = 1000))\n",
       "\n",
       "tau = 0.25\n",
       "\n",
       "Fixed effects:\n",
       "                   Value Std. Error lower bound upper bound Pr(>|t|)\n",
       "(Intercept)     -0.20743    0.21765    -0.64482      0.2300   0.3453\n",
       "mean_ee          0.10938    0.10749    -0.10663      0.3254   0.3139\n",
       "Gender2          0.38864    0.25871    -0.13124      0.9085   0.1394\n",
       "mean_ee:Gender2 -0.13663    0.13016    -0.39819      0.1249   0.2990\n",
       "\n",
       "tau = 0.5\n",
       "\n",
       "Fixed effects:\n",
       "                     Value Std. Error lower bound upper bound Pr(>|t|)\n",
       "(Intercept)     -0.0069524  0.1968117  -0.4024603      0.3886   0.9720\n",
       "mean_ee          0.1334949  0.1220006  -0.1116745      0.3787   0.2792\n",
       "Gender2          0.2059173  0.2269226  -0.2501007      0.6619   0.3686\n",
       "mean_ee:Gender2 -0.1509120  0.1267940  -0.4057142      0.1039   0.2397\n",
       "\n",
       "tau = 0.75\n",
       "\n",
       "Fixed effects:\n",
       "                    Value Std. Error lower bound upper bound  Pr(>|t|)    \n",
       "(Intercept)     -0.042141   0.207620   -0.459369      0.3751 0.8399966    \n",
       "mean_ee          0.259617   0.120485    0.017493      0.5017 0.0361224 *  \n",
       "Gender2          0.739350   0.208855    0.319641      1.1591 0.0008879 ***\n",
       "mean_ee:Gender2 -0.289834   0.137019   -0.565184     -0.0145 0.0395132 *  \n",
       "---\n",
       "Signif. codes:  0 '***' 0.001 '**' 0.01 '*' 0.05 '.' 0.1 ' ' 1\n",
       "\n",
       "AIC:\n",
       "[1]  -559.2 (df = 6) -1345.3 (df = 6)  -294.9 (df = 6)"
      ]
     },
     "metadata": {},
     "output_type": "display_data"
    }
   ],
   "source": [
    "######## Using gradient search method ##############\n",
    "fit.lqmm <- lqmm(fixed = delta_yr1 ~ mean_ee * Gender,\n",
    "                 random = ~ 1, group = Subject,\n",
    "                 data = data_clean, tau = c(0.25,0.5,0.75),\n",
    "                 nK =7, type = \"robust\",\n",
    "                 control=lqmmControl(method = \"gs\", LP_tol_ll = 1e-3, LP_max_iter = 1000))\n",
    "fit.lqmm\n",
    "\n",
    "summary(fit.lqmm)"
   ]
  },
  {
   "cell_type": "code",
   "execution_count": 7,
   "metadata": {},
   "outputs": [
    {
     "name": "stderr",
     "output_type": "stream",
     "text": [
      "Warning message in if (sigma < 0) warning(\"Scale parameter 'sigma' is negative\"):\n",
      "\"the condition has length > 1 and only the first element will be used\""
     ]
    },
    {
     "data": {
      "text/plain": [
       "Call: lqmm(fixed = delta_yr1 ~ mean_ee * Gender, random = ~1, group = Subject, \n",
       "    tau = c(0.25, 0.5, 0.75), nK = 7, type = \"robust\", data = data_clean, \n",
       "    control = lqmmControl(method = \"df\", LP_tol_ll = 0.001, LP_max_iter = 1000))\n",
       "\n",
       "Fixed effects:\n",
       "                 tau = 0.25  tau = 0.50  tau = 0.75\n",
       "(Intercept)       0.14548     0.04010     0.33221  \n",
       "mean_ee          -0.01608     0.09824     0.11776  \n",
       "Gender2          -0.05371     0.15042    -0.13637  \n",
       "mean_ee:Gender2   0.04215    -0.10652    -0.10841  \n",
       "\n",
       "Covariance matrix of the random effects:\n",
       "tau = 0.25\n",
       "(Intercept) \n",
       "     0.6513 \n",
       "tau = 0.5\n",
       "(Intercept) \n",
       "     0.6279 \n",
       "tau = 0.75\n",
       "(Intercept) \n",
       "     0.6415 \n",
       "\n",
       "Residual scale parameter: 0.06157 (tau = 0.25)  0.07646 (tau = 0.5)  0.05923 (tau = 0.75) \n",
       "Log-likelihood: 354.8 (tau = 0.25)  680.0 (tau = 0.5)  519.4 (tau = 0.75) \n",
       "\n",
       "Number of observations: 4650 \n",
       "Number of groups: 155 "
      ]
     },
     "metadata": {},
     "output_type": "display_data"
    },
    {
     "data": {
      "text/plain": [
       "Call: lqmm(fixed = delta_yr1 ~ mean_ee * Gender, random = ~1, group = Subject, \n",
       "    tau = c(0.25, 0.5, 0.75), nK = 7, type = \"robust\", data = data_clean, \n",
       "    control = lqmmControl(method = \"df\", LP_tol_ll = 0.001, LP_max_iter = 1000))\n",
       "\n",
       "tau = 0.25\n",
       "\n",
       "Fixed effects:\n",
       "                    Value Std. Error lower bound upper bound Pr(>|t|)\n",
       "(Intercept)      0.145483   0.168357   -0.192843      0.4838   0.3917\n",
       "mean_ee         -0.016076   0.047175   -0.110878      0.0787   0.7347\n",
       "Gender2         -0.053705   0.222617   -0.501071      0.3937   0.8104\n",
       "mean_ee:Gender2  0.042155   0.076440   -0.111458      0.1958   0.5838\n",
       "\n",
       "tau = 0.5\n",
       "\n",
       "Fixed effects:\n",
       "                    Value Std. Error lower bound upper bound Pr(>|t|)\n",
       "(Intercept)      0.040098   0.170873   -0.303284      0.3835   0.8154\n",
       "mean_ee          0.098236   0.087353   -0.077306      0.2738   0.2662\n",
       "Gender2          0.150421   0.198122   -0.247719      0.5486   0.4513\n",
       "mean_ee:Gender2 -0.106521   0.095848   -0.299134      0.0861   0.2718\n",
       "\n",
       "tau = 0.75\n",
       "\n",
       "Fixed effects:\n",
       "                    Value Std. Error lower bound upper bound Pr(>|t|)\n",
       "(Intercept)      0.332211   0.205572   -0.080902      0.7453   0.1125\n",
       "mean_ee          0.117762   0.112279   -0.107871      0.3434   0.2994\n",
       "Gender2         -0.136366   0.293710   -0.726598      0.4539   0.6445\n",
       "mean_ee:Gender2 -0.108410   0.119197   -0.347944      0.1311   0.3675\n",
       "\n",
       "AIC:\n",
       "[1]  -697.6 (df = 6) -1348.0 (df = 6) -1026.8 (df = 6)"
      ]
     },
     "metadata": {},
     "output_type": "display_data"
    }
   ],
   "source": [
    "######## Using derivtion free method ##############\n",
    "fit.lqmm <- lqmm(fixed = delta_yr1 ~ mean_ee * Gender,\n",
    "                 random = ~ 1, group = Subject,\n",
    "                 data = data_clean, tau = c(0.25,0.5,0.75),\n",
    "                 nK =7, type = \"robust\",\n",
    "                 control=lqmmControl(method = \"df\", LP_tol_ll = 1e-3, LP_max_iter = 1000))\n",
    "fit.lqmm\n",
    "\n",
    "summary(fit.lqmm)"
   ]
  },
  {
   "cell_type": "code",
   "execution_count": null,
   "metadata": {},
   "outputs": [],
   "source": []
  }
 ],
 "metadata": {
  "kernelspec": {
   "display_name": "R",
   "language": "R",
   "name": "ir"
  },
  "language_info": {
   "codemirror_mode": "r",
   "file_extension": ".r",
   "mimetype": "text/x-r-source",
   "name": "R",
   "pygments_lexer": "r",
   "version": "3.4.3"
  }
 },
 "nbformat": 4,
 "nbformat_minor": 2
}
