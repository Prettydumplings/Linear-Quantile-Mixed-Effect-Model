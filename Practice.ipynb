{
 "cells": [
  {
   "cell_type": "code",
   "execution_count": 2,
   "metadata": {},
   "outputs": [],
   "source": [
    "###########################################\n",
    "################ practice #################\n",
    "###########################################\n",
    "\n",
    "library(\"nlme\") # get the data\n",
    "library(\"lqmm\")"
   ]
  },
  {
   "cell_type": "code",
   "execution_count": 3,
   "metadata": {},
   "outputs": [
    {
     "data": {
      "text/plain": [
       "    distance          age          Subject       Sex    \n",
       " Min.   :16.50   Min.   : 8.0   F01    : 4   Male  :64  \n",
       " 1st Qu.:22.00   1st Qu.: 9.5   F02    : 4   Female:44  \n",
       " Median :23.75   Median :11.0   F03    : 4              \n",
       " Mean   :24.02   Mean   :11.0   F04    : 4              \n",
       " 3rd Qu.:26.00   3rd Qu.:12.5   F05    : 4              \n",
       " Max.   :31.50   Max.   :14.0   F06    : 4              \n",
       "                                (Other):84              "
      ]
     },
     "metadata": {},
     "output_type": "display_data"
    },
    {
     "data": {
      "text/html": [
       "<table>\n",
       "<thead><tr><th scope=col>distance</th><th scope=col>age</th><th scope=col>Subject</th><th scope=col>Sex</th></tr></thead>\n",
       "<tbody>\n",
       "\t<tr><td>26.0</td><td> 8  </td><td>M01 </td><td>Male</td></tr>\n",
       "\t<tr><td>25.0</td><td>10  </td><td>M01 </td><td>Male</td></tr>\n",
       "\t<tr><td>29.0</td><td>12  </td><td>M01 </td><td>Male</td></tr>\n",
       "\t<tr><td>31.0</td><td>14  </td><td>M01 </td><td>Male</td></tr>\n",
       "\t<tr><td>21.5</td><td> 8  </td><td>M02 </td><td>Male</td></tr>\n",
       "\t<tr><td>22.5</td><td>10  </td><td>M02 </td><td>Male</td></tr>\n",
       "</tbody>\n",
       "</table>\n"
      ],
      "text/latex": [
       "\\begin{tabular}{r|llll}\n",
       " distance & age & Subject & Sex\\\\\n",
       "\\hline\n",
       "\t 26.0 &  8   & M01  & Male\\\\\n",
       "\t 25.0 & 10   & M01  & Male\\\\\n",
       "\t 29.0 & 12   & M01  & Male\\\\\n",
       "\t 31.0 & 14   & M01  & Male\\\\\n",
       "\t 21.5 &  8   & M02  & Male\\\\\n",
       "\t 22.5 & 10   & M02  & Male\\\\\n",
       "\\end{tabular}\n"
      ],
      "text/markdown": [
       "\n",
       "distance | age | Subject | Sex | \n",
       "|---|---|---|---|---|---|\n",
       "| 26.0 |  8   | M01  | Male | \n",
       "| 25.0 | 10   | M01  | Male | \n",
       "| 29.0 | 12   | M01  | Male | \n",
       "| 31.0 | 14   | M01  | Male | \n",
       "| 21.5 |  8   | M02  | Male | \n",
       "| 22.5 | 10   | M02  | Male | \n",
       "\n",
       "\n"
      ],
      "text/plain": [
       "  distance age Subject Sex \n",
       "1 26.0      8  M01     Male\n",
       "2 25.0     10  M01     Male\n",
       "3 29.0     12  M01     Male\n",
       "4 31.0     14  M01     Male\n",
       "5 21.5      8  M02     Male\n",
       "6 22.5     10  M02     Male"
      ]
     },
     "metadata": {},
     "output_type": "display_data"
    },
    {
     "data": {
      "text/html": [
       "<table>\n",
       "<thead><tr><th></th><th scope=col>distance</th><th scope=col>age</th><th scope=col>Subject</th><th scope=col>Sex</th><th scope=col>age.c</th></tr></thead>\n",
       "<tbody>\n",
       "\t<tr><th scope=row>65</th><td>21.0  </td><td> 8    </td><td>F01   </td><td>Female</td><td>-3    </td></tr>\n",
       "\t<tr><th scope=row>66</th><td>20.0  </td><td>10    </td><td>F01   </td><td>Female</td><td>-1    </td></tr>\n",
       "\t<tr><th scope=row>67</th><td>21.5  </td><td>12    </td><td>F01   </td><td>Female</td><td> 1    </td></tr>\n",
       "\t<tr><th scope=row>68</th><td>23.0  </td><td>14    </td><td>F01   </td><td>Female</td><td> 3    </td></tr>\n",
       "\t<tr><th scope=row>69</th><td>21.0  </td><td> 8    </td><td>F02   </td><td>Female</td><td>-3    </td></tr>\n",
       "\t<tr><th scope=row>70</th><td>21.5  </td><td>10    </td><td>F02   </td><td>Female</td><td>-1    </td></tr>\n",
       "</tbody>\n",
       "</table>\n"
      ],
      "text/latex": [
       "\\begin{tabular}{r|lllll}\n",
       "  & distance & age & Subject & Sex & age.c\\\\\n",
       "\\hline\n",
       "\t65 & 21.0   &  8     & F01    & Female & -3    \\\\\n",
       "\t66 & 20.0   & 10     & F01    & Female & -1    \\\\\n",
       "\t67 & 21.5   & 12     & F01    & Female &  1    \\\\\n",
       "\t68 & 23.0   & 14     & F01    & Female &  3    \\\\\n",
       "\t69 & 21.0   &  8     & F02    & Female & -3    \\\\\n",
       "\t70 & 21.5   & 10     & F02    & Female & -1    \\\\\n",
       "\\end{tabular}\n"
      ],
      "text/markdown": [
       "\n",
       "| <!--/--> | distance | age | Subject | Sex | age.c | \n",
       "|---|---|---|---|---|---|\n",
       "| 65 | 21.0   |  8     | F01    | Female | -3     | \n",
       "| 66 | 20.0   | 10     | F01    | Female | -1     | \n",
       "| 67 | 21.5   | 12     | F01    | Female |  1     | \n",
       "| 68 | 23.0   | 14     | F01    | Female |  3     | \n",
       "| 69 | 21.0   |  8     | F02    | Female | -3     | \n",
       "| 70 | 21.5   | 10     | F02    | Female | -1     | \n",
       "\n",
       "\n"
      ],
      "text/plain": [
       "   distance age Subject Sex    age.c\n",
       "65 21.0      8  F01     Female -3   \n",
       "66 20.0     10  F01     Female -1   \n",
       "67 21.5     12  F01     Female  1   \n",
       "68 23.0     14  F01     Female  3   \n",
       "69 21.0      8  F02     Female -3   \n",
       "70 21.5     10  F02     Female -1   "
      ]
     },
     "metadata": {},
     "output_type": "display_data"
    },
    {
     "name": "stdout",
     "output_type": "stream",
     "text": [
      "Classes 'nfnGroupedData', 'nfGroupedData', 'groupedData' and 'data.frame':\t44 obs. of  5 variables:\n",
      " $ distance: num  21 20 21.5 23 21 21.5 24 25.5 20.5 24 ...\n",
      " $ age     : num  8 10 12 14 8 10 12 14 8 10 ...\n",
      " $ Subject : Factor w/ 11 levels \"F01\",\"F02\",\"F03\",..: 1 1 1 1 2 2 2 2 3 3 ...\n",
      " $ Sex     : Factor w/ 1 level \"Female\": 1 1 1 1 1 1 1 1 1 1 ...\n",
      " $ age.c   : num  -3 -1 1 3 -3 -1 1 3 -3 -1 ...\n",
      " - attr(*, \"formula\")=Class 'formula'  language distance ~ age | Subject\n",
      "  .. ..- attr(*, \".Environment\")=<environment: R_GlobalEnv> \n",
      " - attr(*, \"labels\")=List of 2\n",
      "  ..$ x: chr \"Age\"\n",
      "  ..$ y: chr \"Distance from pituitary to pterygomaxillary fissure\"\n",
      " - attr(*, \"units\")=List of 2\n",
      "  ..$ x: chr \"(years)\"\n",
      "  ..$ y: chr \"(mm)\"\n",
      " - attr(*, \"outer\")=Class 'formula'  language ~Sex\n",
      "  .. ..- attr(*, \".Environment\")=<environment: R_GlobalEnv> \n",
      " - attr(*, \"FUN\")=function (x)  \n",
      "  ..- attr(*, \"source\")= chr \"function (x) max(x, na.rm = TRUE)\"\n",
      " - attr(*, \"order.groups\")= logi FALSE\n"
     ]
    }
   ],
   "source": [
    "data(\"Orthodont\", package=\"nlme\")\n",
    "Orthodont$Subject <- as.character(Orthodont$Subject)\n",
    "Orthodont <- update(Orthodont, units = list(x = \"(years)\", y = \"(mm)\"),order.groups = FALSE)\n",
    "summary(Orthodont)\n",
    "head(Orthodont)\n",
    "\n",
    "Orthodont$age.c <- Orthodont$age - 11\n",
    "Orthodont.sub <- subset(Orthodont, Orthodont$Sex == \"Female\")\n",
    "head(Orthodont.sub)\n",
    "str(Orthodont.sub)"
   ]
  },
  {
   "cell_type": "code",
   "execution_count": 4,
   "metadata": {},
   "outputs": [
    {
     "data": {
      "text/html": [
       "<table>\n",
       "<thead><tr><th scope=col>x</th><th scope=col>group</th><th scope=col>y</th></tr></thead>\n",
       "<tbody>\n",
       "\t<tr><td>0.2875775</td><td>1        </td><td> 2.949871</td></tr>\n",
       "\t<tr><td>0.7883051</td><td>1        </td><td> 8.299371</td></tr>\n",
       "\t<tr><td>0.4089769</td><td>1        </td><td> 3.787429</td></tr>\n",
       "\t<tr><td>0.8830174</td><td>1        </td><td> 9.488773</td></tr>\n",
       "\t<tr><td>0.9404673</td><td>1        </td><td>11.117162</td></tr>\n",
       "\t<tr><td>0.0455565</td><td>1        </td><td> 4.320420</td></tr>\n",
       "</tbody>\n",
       "</table>\n"
      ],
      "text/latex": [
       "\\begin{tabular}{r|lll}\n",
       " x & group & y\\\\\n",
       "\\hline\n",
       "\t 0.2875775 & 1         &  2.949871\\\\\n",
       "\t 0.7883051 & 1         &  8.299371\\\\\n",
       "\t 0.4089769 & 1         &  3.787429\\\\\n",
       "\t 0.8830174 & 1         &  9.488773\\\\\n",
       "\t 0.9404673 & 1         & 11.117162\\\\\n",
       "\t 0.0455565 & 1         &  4.320420\\\\\n",
       "\\end{tabular}\n"
      ],
      "text/markdown": [
       "\n",
       "x | group | y | \n",
       "|---|---|---|---|---|---|\n",
       "| 0.2875775 | 1         |  2.949871 | \n",
       "| 0.7883051 | 1         |  8.299371 | \n",
       "| 0.4089769 | 1         |  3.787429 | \n",
       "| 0.8830174 | 1         |  9.488773 | \n",
       "| 0.9404673 | 1         | 11.117162 | \n",
       "| 0.0455565 | 1         |  4.320420 | \n",
       "\n",
       "\n"
      ],
      "text/plain": [
       "  x         group y        \n",
       "1 0.2875775 1      2.949871\n",
       "2 0.7883051 1      8.299371\n",
       "3 0.4089769 1      3.787429\n",
       "4 0.8830174 1      9.488773\n",
       "5 0.9404673 1     11.117162\n",
       "6 0.0455565 1      4.320420"
      ]
     },
     "metadata": {},
     "output_type": "display_data"
    },
    {
     "data": {
      "text/plain": [
       "Call: lqmm(fixed = y ~ x, random = ~1, group = group, tau = 0.5, nK = 11, \n",
       "    type = \"normal\", data = test)\n",
       "\n",
       "Quantile 0.5 \n",
       "\n",
       "Fixed effects:\n",
       "(Intercept)            x  \n",
       "      3.443        9.258  \n",
       "\n",
       "Covariance matrix of the random effects:\n",
       "(Intercept) \n",
       "      3.426 \n",
       "\n",
       "Residual scale parameter: 0.8697 (standard deviation 2.46)\n",
       "Log-likelihood: -1178 \n",
       "\n",
       "Number of observations: 500 \n",
       "Number of groups: 50 "
      ]
     },
     "metadata": {},
     "output_type": "display_data"
    }
   ],
   "source": [
    "set.seed(123)\n",
    "M <- 50\n",
    "n <- 10\n",
    "test <- data.frame(x = runif(n*M,0,1), group = rep(1:M,each=n))\n",
    "test$y <- 10*test$x + rep(rnorm(M, 0, 2), each = n) + rchisq(n*M, 3)\n",
    "head(test)\n",
    "fit.lqmm <- lqmm(fixed = y ~ x, random = ~ 1, group = group,\n",
    "                 data = test, tau = 0.5, nK = 11, type = \"normal\")\n",
    "fit.lqmm"
   ]
  }
 ],
 "metadata": {
  "kernelspec": {
   "display_name": "R",
   "language": "R",
   "name": "ir"
  },
  "language_info": {
   "codemirror_mode": "r",
   "file_extension": ".r",
   "mimetype": "text/x-r-source",
   "name": "R",
   "pygments_lexer": "r",
   "version": "3.4.3"
  }
 },
 "nbformat": 4,
 "nbformat_minor": 2
}
